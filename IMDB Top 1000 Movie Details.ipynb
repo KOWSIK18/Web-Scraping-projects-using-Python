{
 "cells": [
  {
   "cell_type": "code",
   "execution_count": 1,
   "id": "41720091",
   "metadata": {},
   "outputs": [],
   "source": [
    "import pandas as pd \n",
    "import numpy as np\n",
    "import requests\n",
    "from bs4 import BeautifulSoup\n",
    "from time import sleep\n",
    "from random import randint\n"
   ]
  },
  {
   "cell_type": "code",
   "execution_count": 2,
   "id": "ec418fb9",
   "metadata": {},
   "outputs": [],
   "source": [
    "headers = {\"Accept-language\": \"en-US,en;q=0.5\"}"
   ]
  },
  {
   "cell_type": "code",
   "execution_count": 3,
   "id": "3105be5e",
   "metadata": {},
   "outputs": [],
   "source": [
    "movie_name = []\n",
    "years = []\n",
    "times = []\n",
    "rating = []\n",
    "metascore = []\n",
    "votes = []\n",
    "gross = []"
   ]
  },
  {
   "cell_type": "code",
   "execution_count": 4,
   "id": "adeb6a87",
   "metadata": {},
   "outputs": [],
   "source": [
    "pages = np.arange(1,1000,100)"
   ]
  },
  {
   "cell_type": "code",
   "execution_count": 5,
   "id": "22c104cc",
   "metadata": {},
   "outputs": [],
   "source": [
    "for page in pages:\n",
    "    page = requests.get(\"https://www.imdb.com/search/title/?groups=top_1000&sort=user_rating,desc&count=100&start=\"+str(page)+\"&ref_=adv_nxt\")\n",
    "    soup = BeautifulSoup(page.text, 'html.parser')\n",
    "    movie_data = soup.findAll('div', attrs= {'class': 'lister-item mode-advanced'})\n",
    "    sleep(randint(2,8))\n",
    "    "
   ]
  },
  {
   "cell_type": "code",
   "execution_count": 6,
   "id": "51457d46",
   "metadata": {},
   "outputs": [],
   "source": [
    "for store in movie_data:\n",
    "  name = store.h3.a.text\n",
    "  movie_name.append(name)\n",
    "  \n",
    "  year_of_release = store.h3.find('span', class_= 'lister-item-year text-muted unbold').text.replace('(', ' ').replace(')',' ' )\n",
    "  years.append(year_of_release)\n",
    "\n",
    "  runtime = store.p.find('span', class_= 'runtime').text.replace(' min','')\n",
    "  times.append(runtime)\n",
    "  \n",
    "  rate = store.find('div', class_='inline-block ratings-imdb-rating').text.replace('\\n','')\n",
    "  rating.append(rate) \n",
    "    \n",
    "  meta = store.find('span', class_='metascore').text.replace(' ','') if store.find('span', class_='metascore') else '^^'\n",
    "  metascore.append(meta)\n",
    "    \n",
    "  value = store.find_all('span', attrs = {'name': 'nv'}) \n",
    "  vote = value[0].text\n",
    "  votes.append(vote)\n",
    "\n",
    "  grosses = value[1].text if len(value) >1 else '^^^^'\n",
    "  gross.append(grosses)\n",
    "    "
   ]
  },
  {
   "cell_type": "code",
   "execution_count": 7,
   "id": "282add0f",
   "metadata": {},
   "outputs": [],
   "source": [
    "movie_list = pd.DataFrame({\"Movie Name\": movie_name, \"Year of release\": years, \"Watch Time\": times, \"Movie Rating\": rating, \"Meta Score\": metascore, \"Votes\": votes, \"Gross Collection\": gross})"
   ]
  },
  {
   "cell_type": "code",
   "execution_count": 10,
   "id": "db1c24c3",
   "metadata": {},
   "outputs": [
    {
     "data": {
      "text/html": [
       "<div>\n",
       "<style scoped>\n",
       "    .dataframe tbody tr th:only-of-type {\n",
       "        vertical-align: middle;\n",
       "    }\n",
       "\n",
       "    .dataframe tbody tr th {\n",
       "        vertical-align: top;\n",
       "    }\n",
       "\n",
       "    .dataframe thead th {\n",
       "        text-align: right;\n",
       "    }\n",
       "</style>\n",
       "<table border=\"1\" class=\"dataframe\">\n",
       "  <thead>\n",
       "    <tr style=\"text-align: right;\">\n",
       "      <th></th>\n",
       "      <th>Movie Name</th>\n",
       "      <th>Year of release</th>\n",
       "      <th>Watch Time</th>\n",
       "      <th>Movie Rating</th>\n",
       "      <th>Meta Score</th>\n",
       "      <th>Votes</th>\n",
       "      <th>Gross Collection</th>\n",
       "    </tr>\n",
       "  </thead>\n",
       "  <tbody>\n",
       "    <tr>\n",
       "      <th>0</th>\n",
       "      <td>Goldfinger</td>\n",
       "      <td>1964</td>\n",
       "      <td>110</td>\n",
       "      <td>7.7</td>\n",
       "      <td>87</td>\n",
       "      <td>189,741</td>\n",
       "      <td>$51.08M</td>\n",
       "    </tr>\n",
       "    <tr>\n",
       "      <th>1</th>\n",
       "      <td>The Longest Day</td>\n",
       "      <td>1962</td>\n",
       "      <td>178</td>\n",
       "      <td>7.7</td>\n",
       "      <td>75</td>\n",
       "      <td>55,981</td>\n",
       "      <td>$39.10M</td>\n",
       "    </tr>\n",
       "    <tr>\n",
       "      <th>2</th>\n",
       "      <td>Cape Fear</td>\n",
       "      <td>1962</td>\n",
       "      <td>106</td>\n",
       "      <td>7.7</td>\n",
       "      <td>76</td>\n",
       "      <td>29,299</td>\n",
       "      <td>^^^^</td>\n",
       "    </tr>\n",
       "    <tr>\n",
       "      <th>3</th>\n",
       "      <td>Jules et Jim</td>\n",
       "      <td>1962</td>\n",
       "      <td>105</td>\n",
       "      <td>7.7</td>\n",
       "      <td>97</td>\n",
       "      <td>41,501</td>\n",
       "      <td>^^^^</td>\n",
       "    </tr>\n",
       "    <tr>\n",
       "      <th>4</th>\n",
       "      <td>The Magnificent Seven</td>\n",
       "      <td>1960</td>\n",
       "      <td>128</td>\n",
       "      <td>7.7</td>\n",
       "      <td>74</td>\n",
       "      <td>94,837</td>\n",
       "      <td>$4.91M</td>\n",
       "    </tr>\n",
       "  </tbody>\n",
       "</table>\n",
       "</div>"
      ],
      "text/plain": [
       "              Movie Name Year of release Watch Time Movie Rating Meta Score  \\\n",
       "0             Goldfinger           1964         110          7.7         87   \n",
       "1        The Longest Day           1962         178          7.7         75   \n",
       "2              Cape Fear           1962         106          7.7         76   \n",
       "3           Jules et Jim           1962         105          7.7         97   \n",
       "4  The Magnificent Seven           1960         128          7.7         74   \n",
       "\n",
       "     Votes Gross Collection  \n",
       "0  189,741          $51.08M  \n",
       "1   55,981          $39.10M  \n",
       "2   29,299             ^^^^  \n",
       "3   41,501             ^^^^  \n",
       "4   94,837           $4.91M  "
      ]
     },
     "execution_count": 10,
     "metadata": {},
     "output_type": "execute_result"
    }
   ],
   "source": [
    "movie_list.head(5)"
   ]
  },
  {
   "cell_type": "code",
   "execution_count": 11,
   "id": "41cd1f23",
   "metadata": {},
   "outputs": [],
   "source": [
    "movie_list.to_excel(\"IMDb Top 1000 Movie Details 2022.xlsx\")"
   ]
  },
  {
   "cell_type": "code",
   "execution_count": null,
   "id": "3c8b70d0",
   "metadata": {},
   "outputs": [],
   "source": []
  },
  {
   "cell_type": "code",
   "execution_count": null,
   "id": "fd98e919",
   "metadata": {},
   "outputs": [],
   "source": []
  }
 ],
 "metadata": {
  "kernelspec": {
   "display_name": "Python 3 (ipykernel)",
   "language": "python",
   "name": "python3"
  },
  "language_info": {
   "codemirror_mode": {
    "name": "ipython",
    "version": 3
   },
   "file_extension": ".py",
   "mimetype": "text/x-python",
   "name": "python",
   "nbconvert_exporter": "python",
   "pygments_lexer": "ipython3",
   "version": "3.9.12"
  }
 },
 "nbformat": 4,
 "nbformat_minor": 5
}
